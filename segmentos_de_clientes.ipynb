{
  "nbformat": 4,
  "nbformat_minor": 0,
  "metadata": {
    "colab": {
      "name": "segmentos_de_clientes.ipynb",
      "provenance": [],
      "collapsed_sections": [],
      "mount_file_id": "1FqvMrnHU_FLC9pNX0Dw821WVmqUdj7mv",
      "authorship_tag": "ABX9TyMrGdluY50bTnr0qgU2JEyc",
      "include_colab_link": true
    },
    "kernelspec": {
      "name": "python3",
      "display_name": "Python 3"
    },
    "language_info": {
      "name": "python"
    }
  },
  "cells": [
    {
      "cell_type": "markdown",
      "metadata": {
        "id": "view-in-github",
        "colab_type": "text"
      },
      "source": [
        "<a href=\"https://colab.research.google.com/github/ahcamachod/clusterizacion-de-datos-segmentacion-de-clientes/blob/main/segmentos_de_clientes.ipynb\" target=\"_parent\"><img src=\"https://colab.research.google.com/assets/colab-badge.svg\" alt=\"Open In Colab\"/></a>"
      ]
    },
    {
      "cell_type": "markdown",
      "source": [
        "# Clusterización de Datos: Segmentación de clientes\n",
        "\n",
        "En este notebook estaremos desarrollando un análisis completo de Ciencia de Datos con Machine Learning para la segmentación de clientes.\n",
        "\n",
        "De manera puntual, emplearemos una técnica de segmentación del comportamiento del cliente basada en datos conocida como RFM (Recencia o Actualidad, Frecuencia, y Valor Monetario). \n",
        "\n",
        "El dataset utilizado fue adaptado para nuestro entrenamiento, tomando como referencia un dataset de Kaggle llamado **Brazilian E-Commerce Public Dataset by Olist**.\n",
        "\n",
        "*dataset: https://www.kaggle.com/datasets/olistbr/brazilian-ecommerce*"
      ],
      "metadata": {
        "id": "Cs4s9hNN-q5y"
      }
    },
    {
      "cell_type": "markdown",
      "source": [
        "## Aula 1"
      ],
      "metadata": {
        "id": "pebzSI2m0ZiO"
      }
    },
    {
      "cell_type": "markdown",
      "source": [
        "### 1.2 Importando y explorando el dataset"
      ],
      "metadata": {
        "id": "ufIE-dZW1Jkf"
      }
    },
    {
      "cell_type": "code",
      "source": [
        ""
      ],
      "metadata": {
        "id": "gKg7tSUQ0WQ8"
      },
      "execution_count": null,
      "outputs": []
    },
    {
      "cell_type": "code",
      "source": [
        ""
      ],
      "metadata": {
        "id": "xGyvktZG2MRG"
      },
      "execution_count": null,
      "outputs": []
    },
    {
      "cell_type": "code",
      "source": [
        ""
      ],
      "metadata": {
        "id": "nb6qMsIh2MZs"
      },
      "execution_count": null,
      "outputs": []
    },
    {
      "cell_type": "markdown",
      "source": [
        "### 1.2.1 Columnas y Descripción"
      ],
      "metadata": {
        "id": "KSLsa79X4OwZ"
      }
    },
    {
      "cell_type": "markdown",
      "source": [
        "**muestra**: Numeración creciente de los datos.\n",
        "\n",
        "**id_cliente**: Número de identificación del cliente que realiza la compra.\n",
        "\n",
        "**id_unico_cliente**: Número único para cada cliente en función de su dirección IP, independiente de la compra. \n",
        "\n",
        "**item_id**: Número de identificación del item comprado.\n",
        "\n",
        "**cp_cliente**: Código postal del cliente.\n",
        "\n",
        "**ciudad_cliente**: Ciudad donde se realizó el pedido.\n",
        "\n",
        "**estado_cliente**: Estado donde se realizó el pedido.\n",
        "\n",
        "**id_pedido**: Número de identificación de la compra.\n",
        "\n",
        "**status_pedido**: Status del pedido (Ej. Entregado, facturado, procesando, etc).\n",
        "\n",
        "**horario_pedido**: Fecha y hora en la cual se realizó el pedido.\n",
        "\n",
        "**pedido_aprobado**: Fecha y hora en la cual se aprobó el pedido.  \n",
        "**pedido_entregador**: Fecha y hora en la cual se hizo entrega del pedido a la empresa transportadora.  \n",
        "\n",
        "**pedido_entregado**:Fecha y hora en la cual se hizo entrega del pedido al cliente.\n",
        "\n",
        "**fecha_estimada**:Fecha y hora estimada de entrega.\n",
        "\n",
        "**id_vendedor**: Número de identificación del vendedor.\n",
        "\n",
        "**precio**: Precio del producto.\n",
        "\n",
        "**precio_envio**: Precio del envío.\n",
        "\n",
        "**pago_secuencial**: Compra en la cual el cliente solicita más de una forma de pago (Ej. Crédito y débito, etc).\n",
        "\n",
        "**pago_tipo**: Método de pago (Ej. factura, débito, voucher).\n",
        "\n",
        "**pago_cuotas**: Número de cuotas escogido por el cliente para realizar el pago.\n",
        "\n",
        "**pago_valor**: Valor total pago.\n",
        "\n",
        "**review**: Nota que el consumidor da a todo el proceso.\n",
        "\n",
        "**categoria**: Categoría del item comprado. \n",
        "\n",
        "**cp_vendedor**: Código postal del vendedor.\n",
        "\n",
        "**ciudad_vendedor**: Ciudad del vendedor.\n",
        "\n",
        "**estado_vendedor**: Estado del vendedor."
      ],
      "metadata": {
        "id": "Ix081I4619RJ"
      }
    },
    {
      "cell_type": "code",
      "source": [
        ""
      ],
      "metadata": {
        "id": "f-X51p_Z-lr4"
      },
      "execution_count": null,
      "outputs": []
    },
    {
      "cell_type": "markdown",
      "source": [
        "### 1.3 Análisis exploratorio de los datos"
      ],
      "metadata": {
        "id": "rM7YHCXC0OSD"
      }
    },
    {
      "cell_type": "code",
      "source": [
        ""
      ],
      "metadata": {
        "id": "iGkmFQeM2FKO"
      },
      "execution_count": null,
      "outputs": []
    },
    {
      "cell_type": "code",
      "source": [
        ""
      ],
      "metadata": {
        "id": "V_86OWAf2FR1"
      },
      "execution_count": null,
      "outputs": []
    },
    {
      "cell_type": "code",
      "source": [
        ""
      ],
      "metadata": {
        "id": "5U3bZfYf2FyW"
      },
      "execution_count": null,
      "outputs": []
    },
    {
      "cell_type": "markdown",
      "source": [
        "## Aula 2"
      ],
      "metadata": {
        "id": "-3K5G6fW2P0u"
      }
    },
    {
      "cell_type": "markdown",
      "source": [
        "### 2.1 Modelo RFM "
      ],
      "metadata": {
        "id": "ERl1lwOo2Sgb"
      }
    },
    {
      "cell_type": "markdown",
      "source": [
        "#### **Recencia (R)**\n",
        "##### ¿Hace cuántos días fue la última compra que realizó este cliente?\n",
        "\n",
        "#### **Frecuencia (F)**\n",
        "##### ¿Cuántas compras este cliente hizo en tu empresa, desde que se registró?\n",
        "\n",
        "#### **Valor Monetario (M)**\n",
        "##### ¿Cuánto dinero este cliente ya gastó en tu empresa?"
      ],
      "metadata": {
        "id": "DvWpE12x2pkw"
      }
    },
    {
      "cell_type": "code",
      "source": [
        ""
      ],
      "metadata": {
        "id": "udF6KDZJ2ZfC"
      },
      "execution_count": null,
      "outputs": []
    },
    {
      "cell_type": "code",
      "source": [
        ""
      ],
      "metadata": {
        "id": "LxsEV7tY47YH"
      },
      "execution_count": null,
      "outputs": []
    },
    {
      "cell_type": "code",
      "source": [
        ""
      ],
      "metadata": {
        "id": "fy07EYB_47cV"
      },
      "execution_count": null,
      "outputs": []
    },
    {
      "cell_type": "markdown",
      "source": [
        "### 2.2 Regla del codo"
      ],
      "metadata": {
        "id": "OcYNbjsa5CS1"
      }
    },
    {
      "cell_type": "markdown",
      "source": [
        "Ahora, necesitamos usar el Método del Codo, la idea es ejecutar el algoritmo KMeans para varias cantidades diferentes de clusters y así poder determinar el número ideal de clusters. \n",
        "\n",
        "A medida que aumentamos el número de clusters con KMeans, las diferencias entre los diversos clusters disminuyen y las diferencias por dentro de los clusters van aumentando. Entonces, debemos hallar un equilibrio de modo que las observaciones que conforman cada agrupación sean lo más homogéneas posible y que las diversas agrupaciones se puedan diferenciar entre sí."
      ],
      "metadata": {
        "id": "DSm9sEUk5P3u"
      }
    },
    {
      "cell_type": "markdown",
      "source": [
        "### 2.3 Codificando la Regla del Codo"
      ],
      "metadata": {
        "id": "BFjNLajD-Dvq"
      }
    },
    {
      "cell_type": "code",
      "source": [
        ""
      ],
      "metadata": {
        "id": "dqRCJ-cI-DQH"
      },
      "execution_count": null,
      "outputs": []
    },
    {
      "cell_type": "code",
      "source": [
        ""
      ],
      "metadata": {
        "id": "zKufmBTY5MYV"
      },
      "execution_count": null,
      "outputs": []
    },
    {
      "cell_type": "code",
      "source": [
        ""
      ],
      "metadata": {
        "id": "vegQFGvA5Mhw"
      },
      "execution_count": null,
      "outputs": []
    },
    {
      "cell_type": "markdown",
      "source": [
        "### 2.4 Regla Matemática"
      ],
      "metadata": {
        "id": "WyEJOFr6-WOQ"
      }
    },
    {
      "cell_type": "markdown",
      "source": [
        "¿Cómo podemos identificar si el mejor número de clusters es 3, 4 o 5? \n",
        "\n",
        "¡Existe una solución matemática! \n",
        "\n",
        "\n",
        "\n",
        "> ![](https://miro.medium.com/max/2775/1*9J7Wnh5L0eIcHXBeWlzvNA.png)\n",
        "\n",
        "\n",
        "Lo primero que debemos hacer, es definir una recta conectando el primer punto (cluster 1) al último punto (cluster 9). \n",
        "\n",
        "En este caso, P0 es el punto del cluster 1 y P1 es el punto del cluster 9. El par (x,y) representa las coordenadas de cualquier punto desde el cual deseemos  calcular la distancia hasta la recta. Calculando todas las distancias, lograremos determinar el punto que indica el número ideal de clusters."
      ],
      "metadata": {
        "id": "9Naj2zBDAWV2"
      }
    },
    {
      "cell_type": "markdown",
      "source": [
        "### 2.5 Codificando la Regla Matemática"
      ],
      "metadata": {
        "id": "HpRa_DdDDsB2"
      }
    },
    {
      "cell_type": "code",
      "source": [
        ""
      ],
      "metadata": {
        "id": "A-f0qRiWAccP"
      },
      "execution_count": null,
      "outputs": []
    },
    {
      "cell_type": "code",
      "source": [
        ""
      ],
      "metadata": {
        "id": "NXxfu8I3Acks"
      },
      "execution_count": null,
      "outputs": []
    },
    {
      "cell_type": "code",
      "source": [
        ""
      ],
      "metadata": {
        "id": "Ow_9XbyvAcwG"
      },
      "execution_count": null,
      "outputs": []
    },
    {
      "cell_type": "markdown",
      "source": [
        "## Aula 3"
      ],
      "metadata": {
        "id": "WsqJaPafEBvb"
      }
    },
    {
      "cell_type": "markdown",
      "source": [
        "### 3.1 Clusterizando la Recencia"
      ],
      "metadata": {
        "id": "hCbGgwnPEKfT"
      }
    },
    {
      "cell_type": "code",
      "source": [
        ""
      ],
      "metadata": {
        "id": "dH4qU53OElSv"
      },
      "execution_count": null,
      "outputs": []
    },
    {
      "cell_type": "code",
      "source": [
        ""
      ],
      "metadata": {
        "id": "kebWVGIhElVI"
      },
      "execution_count": null,
      "outputs": []
    },
    {
      "cell_type": "code",
      "source": [
        ""
      ],
      "metadata": {
        "id": "nVNqOlrpElXt"
      },
      "execution_count": null,
      "outputs": []
    },
    {
      "cell_type": "markdown",
      "source": [
        "### 3.2 Clusterizando la Frecuencia"
      ],
      "metadata": {
        "id": "4_bfcgiSEnXl"
      }
    },
    {
      "cell_type": "code",
      "source": [
        ""
      ],
      "metadata": {
        "id": "4-_owH_VElbF"
      },
      "execution_count": null,
      "outputs": []
    },
    {
      "cell_type": "code",
      "source": [
        ""
      ],
      "metadata": {
        "id": "T1mWCPo3EuF1"
      },
      "execution_count": null,
      "outputs": []
    },
    {
      "cell_type": "code",
      "source": [
        ""
      ],
      "metadata": {
        "id": "TNz0dE4aEuJc"
      },
      "execution_count": null,
      "outputs": []
    },
    {
      "cell_type": "markdown",
      "source": [
        "### 3.3 Clusterizando el Valor Monetario (Ingresos)"
      ],
      "metadata": {
        "id": "Ova3cH6QEujL"
      }
    },
    {
      "cell_type": "code",
      "source": [
        ""
      ],
      "metadata": {
        "id": "Jw8uGspnFRPx"
      },
      "execution_count": null,
      "outputs": []
    },
    {
      "cell_type": "code",
      "source": [
        ""
      ],
      "metadata": {
        "id": "Tjb-5OhwFRSe"
      },
      "execution_count": null,
      "outputs": []
    },
    {
      "cell_type": "code",
      "source": [
        ""
      ],
      "metadata": {
        "id": "bQ0CaW86FRdf"
      },
      "execution_count": null,
      "outputs": []
    },
    {
      "cell_type": "markdown",
      "source": [
        "## Aula 4"
      ],
      "metadata": {
        "id": "x4NfS6DNFRyo"
      }
    },
    {
      "cell_type": "markdown",
      "source": [
        "### 4.1 Creando la puntuación"
      ],
      "metadata": {
        "id": "6mF5OMwGFTuu"
      }
    },
    {
      "cell_type": "code",
      "source": [
        ""
      ],
      "metadata": {
        "id": "UIlD8kvgFlfC"
      },
      "execution_count": null,
      "outputs": []
    },
    {
      "cell_type": "code",
      "source": [
        ""
      ],
      "metadata": {
        "id": "ZAThR7ReFlhv"
      },
      "execution_count": null,
      "outputs": []
    },
    {
      "cell_type": "code",
      "source": [
        ""
      ],
      "metadata": {
        "id": "-3kNF6iKFlka"
      },
      "execution_count": null,
      "outputs": []
    },
    {
      "cell_type": "markdown",
      "source": [
        "### 4.2 Análisis visual de los resultados"
      ],
      "metadata": {
        "id": "RtO2IpGDFmpY"
      }
    },
    {
      "cell_type": "code",
      "source": [
        ""
      ],
      "metadata": {
        "id": "GftxrZ3WGEMa"
      },
      "execution_count": null,
      "outputs": []
    },
    {
      "cell_type": "code",
      "source": [
        ""
      ],
      "metadata": {
        "id": "lQhEdPXOGEPg"
      },
      "execution_count": null,
      "outputs": []
    },
    {
      "cell_type": "code",
      "source": [
        ""
      ],
      "metadata": {
        "id": "oepSAXfkGER4"
      },
      "execution_count": null,
      "outputs": []
    }
  ]
}